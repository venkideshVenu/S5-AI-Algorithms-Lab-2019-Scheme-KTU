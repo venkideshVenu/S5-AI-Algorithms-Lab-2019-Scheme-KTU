{
 "cells": [
  {
   "cell_type": "markdown",
   "metadata": {
    "id": "ICEUiQ2n9F_D"
   },
   "source": [
    "## Implement propositional logic inferences for AI tasks"
   ]
  },
  {
   "cell_type": "markdown",
   "metadata": {
    "id": "pk1EHf8J9QK5"
   },
   "source": [
    "# Question 1\n",
    "\n",
    "1. If it didn’t rain, Harry visited Hagrid today.\n",
    "2. Harry visited Hagrid or Dumbledore today, but not both.\n",
    "3. Harry visited Dumbledore today.\n",
    "\n",
    "\n",
    "* Represent these knowledge in knowledge base.\n",
    "* Check whether “harry visited hagrid”\n",
    "* Check whether “it rained today”"
   ]
  },
  {
   "cell_type": "code",
   "execution_count": 9,
   "metadata": {
    "colab": {
     "base_uri": "https://localhost:8080/"
    },
    "id": "fdq2CBDp9Qq8",
    "outputId": "3b81a025-e43c-4d63-ea35-87935aad843a"
   },
   "outputs": [
    {
     "name": "stdout",
     "output_type": "stream",
     "text": [
      "Knowledge Base:\n",
      "Harry visited Dumbledore & (Harry visited Dumbledore | Harry visited Hagrid) & (Implies(~It is raining, Harry visited Hagrid)) & ~(Harry visited Dumbledore & Harry visited Hagrid)\n",
      "\n",
      "Checking Statements:\n",
      "\n",
      "Harry visited Hagrid: False\n",
      "It rained today: True\n"
     ]
    }
   ],
   "source": [
    "\n",
    "# Define logical symbols (propositions)\n",
    "rain = Symbol(\"It is raining\")               # Represents \"It is raining\"\n",
    "hagrid = Symbol(\"Harry visited Hagrid\")      # Represents \"Harry visited Hagrid\"\n",
    "dumbledore = Symbol(\"Harry visited Dumbledore\")  # Represents \"Harry visited Dumbledore\"\n",
    "\n",
    "# Define the knowledge base\n",
    "knowledge = And(\n",
    "    Implies(Not(rain), hagrid),  # If it's not raining, Harry visited Hagrid\n",
    "    Or(hagrid, dumbledore),      # Harry visited either Hagrid or Dumbledore\n",
    "    Not(And(hagrid, dumbledore)), # Harry didn't visit both at the same time\n",
    "    dumbledore                   # Harry visited Dumbledore\n",
    ")\n",
    "\n",
    "model = satisfiable(knowledge)    # Find a model (satisfying truth assignment) for the knowledge base\n",
    "\n",
    "print(\"Knowledge Base:\")\n",
    "print(knowledge)\n",
    "\n",
    "print(\"\\nChecking Statements:\\n\")\n",
    "print(\"Harry visited Hagrid:\", model.get(hagrid, False))\n",
    "print(\"It rained today:\", model.get(rain, False))\n"
   ]
  },
  {
   "cell_type": "markdown",
   "metadata": {
    "id": "j0hQBCfi9bU4"
   },
   "source": [
    "# Question 2\n",
    "\n",
    "\n",
    "1. It is not sunny this afternoon and it is colder than yesterday.\n",
    "2. We will go swimming only if it is sunny.\n",
    "3. If we do not go swimming then we will take a canoe trip.\n",
    "4. If we take a canoe trip, then we will be home by sunset.\n",
    "\n",
    "\n",
    "* Represent the knowledge base\n",
    "* Check whether they will be home by sunset"
   ]
  },
  {
   "cell_type": "code",
   "execution_count": 11,
   "metadata": {
    "colab": {
     "base_uri": "https://localhost:8080/"
    },
    "id": "BlfOmzDN9b_e",
    "outputId": "836049ab-59a7-4c8e-89c4-e90deaee1ea4"
   },
   "outputs": [
    {
     "name": "stdout",
     "output_type": "stream",
     "text": [
      "Knowledge Base:\n",
      "It's colder than yesterday & ~It's sunny this afternoon & (Implies(We will go swimming, It's sunny this afternoon)) & (Implies(We will take a Canoe Trip, We will be home by sunset)) & (Implies(~We will go swimming, We will take a Canoe Trip))\n",
      "\n",
      "Checking Statements:\n",
      "\n",
      "They will be home by sunset: True\n"
     ]
    }
   ],
   "source": [
    "\n",
    "# Define logical symbols (propositions)\n",
    "S = Symbol(\"It's sunny this afternoon\")  \n",
    "C = Symbol(\"It's colder than yesterday\")  \n",
    "W = Symbol(\"We will go swimming\")        \n",
    "T = Symbol(\"We will take a Canoe Trip\")   \n",
    "H = Symbol(\"We will be home by sunset\")  \n",
    "\n",
    "# Define the knowledge base\n",
    "knowledge = And(\n",
    "    And(Not(S), C),              # It's not sunny, and it's colder than yesterday\n",
    "    Implies(W, S),               # If we go swimming, it will be sunny\n",
    "    Implies(Not(W), T),          # If we don't go swimming, we will take a canoe trip\n",
    "    Implies(T, H)                # If we take a canoe trip, we will be home by sunset\n",
    ")\n",
    "\n",
    "# Find a model (satisfying truth assignment) for the knowledge base\n",
    "model = satisfiable(knowledge)\n",
    "\n",
    "print(\"Knowledge Base:\")\n",
    "print(knowledge)\n",
    "\n",
    "print(\"\\nChecking Statements:\\n\")\n",
    "print(\"They will be home by sunset:\", model.get(H, False))\n"
   ]
  },
  {
   "cell_type": "markdown",
   "metadata": {},
   "source": [
    "# Extra Practice Problems"
   ]
  },
  {
   "cell_type": "markdown",
   "metadata": {},
   "source": [
    "* If it’s not cloudy, we will go for a picnic.\n",
    "* If it’s cloudy and windy, we won’t go for a picnic.\n",
    "* If we go for a picnic, we will bring umbrellas.\n",
    "* If we don’t go for a picnic, we will return before dark.\n",
    "\n",
    "Question: Will we return before dark?\n"
   ]
  },
  {
   "cell_type": "code",
   "execution_count": 14,
   "metadata": {},
   "outputs": [
    {
     "name": "stdout",
     "output_type": "stream",
     "text": [
      "They will be return before dark : True\n"
     ]
    }
   ],
   "source": [
    "cloudy = Symbol('Its Cloudy')\n",
    "picnic = Symbol('we will go for a picninc')\n",
    "windy = Symbol('its Windy')\n",
    "umbrella = Symbol('we will bring umbrella')\n",
    "dark = Symbol('we will return before dark')\n",
    "\n",
    "knowledge = And(\n",
    "    Implies(Not(cloudy),picnic),\n",
    "    Implies(And(cloudy,windy),Not(picnic)),\n",
    "    Implies(picnic,umbrella),\n",
    "    Implies(Not(picnic),dark)\n",
    ")\n",
    "\n",
    "model = satisfiable(knowledge)\n",
    "print(\"They will be return before dark :\", model.get(dark, False))"
   ]
  },
  {
   "cell_type": "markdown",
   "metadata": {},
   "source": [
    "## Knowledge Base Statements:\n",
    "\n",
    "* If the library is open and we’ve completed our homework, we will visit the library.\n",
    "* If we visit the library, we will study for the exam.\n",
    "* If we study for the exam, we will take a break after studying.\n",
    "* If the library is closed, we won’t visit the library.\n",
    "  \n",
    "Question: Will we take a break after studying?"
   ]
  },
  {
   "cell_type": "code",
   "execution_count": 15,
   "metadata": {},
   "outputs": [
    {
     "name": "stdout",
     "output_type": "stream",
     "text": [
      "Will we take a break after studying : True\n"
     ]
    }
   ],
   "source": [
    "library = Symbol('Library is open')\n",
    "homework = Symbol('completed the homework')\n",
    "visit = Symbol('visit the library')\n",
    "study = Symbol('Study for exam')\n",
    "break_ = Symbol('Take a break from studying')\n",
    "\n",
    "\n",
    "knowledge = And(\n",
    "    Implies(And(library,homework),visit),\n",
    "    Implies(visit,study),\n",
    "    Implies(study,break_),\n",
    "    Implies(Not(library),Not(visit))\n",
    ")\n",
    "\n",
    "model = satisfiable(knowledge)\n",
    "print(\"Will we take a break after studying :\", model.get(break_,False))"
   ]
  },
  {
   "cell_type": "markdown",
   "metadata": {},
   "source": [
    "## Knowledge Base Statements:\n",
    "\n",
    "* If it’s raining and the event is outdoors, we won’t attend.\n",
    "* If the event is indoors and we have tickets, we will attend.\n",
    "* If we attend, we will prepare in advance.\n",
    "* If we don’t attend, we won’t prepare.\n",
    "  \n",
    "Question: Will we prepare in advance?"
   ]
  },
  {
   "cell_type": "code",
   "execution_count": 16,
   "metadata": {},
   "outputs": [
    {
     "name": "stdout",
     "output_type": "stream",
     "text": [
      "Will we prepare in advance: False\n"
     ]
    }
   ],
   "source": [
    "rain = Symbol('It is raining')\n",
    "event = Symbol('Event is outdoor')\n",
    "attend = Symbol(\"we will attend the event\")\n",
    "ticket = Symbol('we have ticket')\n",
    "prepare = Symbol('Prepare in advance')\n",
    "\n",
    "# Knowledge base statements\n",
    "knowledge = And(\n",
    "    Implies(And(rain, event), Not(attend)),          \n",
    "    Implies(And(Not(event), ticket), attend),        \n",
    "    Implies(attend, prepare),                 \n",
    "    Implies(Not(attend), Not(prepare))    \n",
    ")\n",
    "\n",
    "# Find a model and check if we will prepare in advance\n",
    "model = satisfiable(knowledge)\n",
    "print('Will we prepare in advance:', model.get(prepare, False))\n"
   ]
  }
 ],
 "metadata": {
  "colab": {
   "provenance": []
  },
  "kernelspec": {
   "display_name": "Python 3 (ipykernel)",
   "language": "python",
   "name": "python3"
  },
  "language_info": {
   "codemirror_mode": {
    "name": "ipython",
    "version": 3
   },
   "file_extension": ".py",
   "mimetype": "text/x-python",
   "name": "python",
   "nbconvert_exporter": "python",
   "pygments_lexer": "ipython3",
   "version": "3.12.5"
  }
 },
 "nbformat": 4,
 "nbformat_minor": 4
}
