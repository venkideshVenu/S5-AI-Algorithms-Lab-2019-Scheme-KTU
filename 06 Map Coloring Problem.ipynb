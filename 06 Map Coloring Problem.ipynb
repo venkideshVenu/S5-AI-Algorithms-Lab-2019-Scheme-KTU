{
 "cells": [
  {
   "cell_type": "markdown",
   "id": "63aaa976-065b-41c0-9c1a-5964b3cc0930",
   "metadata": {},
   "source": [
    "# Map Coloring Problem"
   ]
  },
  {
   "cell_type": "code",
   "execution_count": 2,
   "id": "c54bff82-3fbe-41c2-af0c-a581a0c91c65",
   "metadata": {},
   "outputs": [
    {
     "name": "stdout",
     "output_type": "stream",
     "text": [
      "\n",
      "========================================\n",
      "      State    |      Color     \n",
      "----------------------------------------\n",
      "        WA     |       Red      \n",
      "        NT     |      Green     \n",
      "        Q      |       Red      \n",
      "        SA     |      Blue      \n",
      "        V      |      Green     \n",
      "========================================\n"
     ]
    }
   ],
   "source": [
    "def istaken(state, color):                    # Function to check if a state can be assigned a specific color\n",
    "    for n in neighbours[state]:               # Iterate through the neighboring states\n",
    "        his_color = state_color.get(n)        # Get the color of the neighboring state\n",
    "        if his_color == color:                # If the neighboring state has the same color, return False\n",
    "            return False\n",
    "    return True                               # If no neighboring state has the same color, return True\n",
    "\n",
    "def get_color(state):                         # Function to get an available color for a state\n",
    "    for c in colors:                          # Iterate through the list of colors\n",
    "        if istaken(state, c):                 # Check if the color can be assigned to the state\n",
    "            return c\n",
    "    return None                               # If no color is available, return None\n",
    "\n",
    "colors = ['Red', 'Green', 'Blue']             # List of colors\n",
    "states = ['wa', 'nt', 'q', 'sa', 'v']         # List of states\n",
    "neighbours = {                                # Dictionary of neighboring states\n",
    "    'wa': ['nt', 'sa'],\n",
    "    'nt': ['wa', 'sa', 'q'],\n",
    "    'sa': ['wa', 'nt', 'q', 'v'],\n",
    "    'q': ['nt', 'sa', 'v'],\n",
    "    'v': ['q', 'sa']\n",
    "}\n",
    "\n",
    "state_color = {}                              # Dictionary to store the color assigned to each state\n",
    "for s in states:                              # Assign colors to each state\n",
    "    state_color[s] = get_color(s)\n",
    "\n",
    "# Print results in a table format\n",
    "print(\"\\n\" + \"=\"*40)\n",
    "print(f\"    {'State':^10} | {'Color':^15}\")      # Header\n",
    "print(\"-\"*40)\n",
    "for state, color in state_color.items():\n",
    "    print(f\"    {state.upper():^10} | {color:^15}\")\n",
    "print(\"=\"*40)"
   ]
  }
 ],
 "metadata": {
  "kernelspec": {
   "display_name": "Python 3 (ipykernel)",
   "language": "python",
   "name": "python3"
  },
  "language_info": {
   "codemirror_mode": {
    "name": "ipython",
    "version": 3
   },
   "file_extension": ".py",
   "mimetype": "text/x-python",
   "name": "python",
   "nbconvert_exporter": "python",
   "pygments_lexer": "ipython3",
   "version": "3.12.5"
  }
 },
 "nbformat": 4,
 "nbformat_minor": 5
}
