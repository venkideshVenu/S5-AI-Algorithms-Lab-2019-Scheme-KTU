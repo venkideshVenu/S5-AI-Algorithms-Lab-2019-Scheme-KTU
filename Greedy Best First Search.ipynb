{
 "cells": [
  {
   "cell_type": "markdown",
   "id": "6a3475f3-5b7f-492d-a9d5-565b5272c450",
   "metadata": {},
   "source": [
    "## Greedy Best First Search"
   ]
  },
  {
   "cell_type": "code",
   "execution_count": 3,
   "id": "608ff1af-aa54-4a69-a011-385486a0bfbe",
   "metadata": {},
   "outputs": [
    {
     "name": "stdout",
     "output_type": "stream",
     "text": [
      "\n",
      "\n",
      "\n",
      "Path found  :  S --> B --> C --> E --> G\n"
     ]
    }
   ],
   "source": [
    "def greedy_best_first_search(start, goal, graph):\n",
    "    current_node = start            # Initialize the starting node as the current node\n",
    "    path = [current_node]           # Initialize the path with the starting node\n",
    "    while current_node != goal:     # Loop until we reach the goal node\n",
    "        if current_node not in graph:                           # Check if the current node has no successors in the graph\n",
    "            print(f\"Path terminated at {current_node} node\")    # Terminate if node not in graph\n",
    "            return None\n",
    "        neighbors = graph[current_node]           # Get the neighboring nodes of the current node\n",
    "        if not neighbors:           # If there are no neighbors, terminate the search\n",
    "            print(f\"Path terminated at {current_node} node\")\n",
    "            return None\n",
    "        successive_node = min(neighbors, key=neighbors.get)    # Select the neighboring node with the smallest heuristic value\n",
    "        path.append(successive_node)          # Add the chosen node to the path\n",
    "        current_node = successive_node        # Update the current node to the chosen node\n",
    "    return path           # Return the path once the goal is reached\n",
    "\n",
    "# Define the graph with heuristic values as edges\n",
    "graph = {\n",
    "    'S': {'A': 22, 'B': 20}, \n",
    "    'A': {}, \n",
    "    'B': {'C': 18, 'D': 30}, \n",
    "    'C': {'E': 31}, \n",
    "    'D': {'E': 31, 'G': 0}, \n",
    "    'E': {'G': 0}, \n",
    "    'G': {}\n",
    "}\n",
    "\n",
    "# Define the start and goal nodes\n",
    "start_node = 'S'\n",
    "goal_node = 'G'\n",
    "\n",
    "# Run the Greedy Best-First Search algorithm\n",
    "path = greedy_best_first_search(start_node, goal_node, graph)\n",
    "\n",
    "# Print the result\n",
    "if path is None:\n",
    "    print(\"Path not Found!!\")\n",
    "else:\n",
    "    print(f\"\\n\\n\\nPath found  :  {' --> '.join(path)}\")\n"
   ]
  }
 ],
 "metadata": {
  "kernelspec": {
   "display_name": "Python 3 (ipykernel)",
   "language": "python",
   "name": "python3"
  },
  "language_info": {
   "codemirror_mode": {
    "name": "ipython",
    "version": 3
   },
   "file_extension": ".py",
   "mimetype": "text/x-python",
   "name": "python",
   "nbconvert_exporter": "python",
   "pygments_lexer": "ipython3",
   "version": "3.12.5"
  }
 },
 "nbformat": 4,
 "nbformat_minor": 5
}
