{
 "cells": [
  {
   "cell_type": "markdown",
   "id": "695b2eff-973b-4e1d-9cb0-1087920ccf7b",
   "metadata": {},
   "source": [
    "# A* Search"
   ]
  },
  {
   "cell_type": "markdown",
   "id": "e0a252d2-68f1-4245-9d64-ee0b8ddec2bd",
   "metadata": {},
   "source": [
    "## Graph Used in this program\n",
    "\n",
    "```mermaid\n",
    "graph TD\n",
    "    S[\"S : 40\"] -->|22| A[\"A : 36\"]\n",
    "    S -->|20| B[\"B : 24\"]\n",
    "    B -->|18| C[\"C : 18\"]\n",
    "    B -->|30| D[\"D : 12\"]\n",
    "    C -->|31| E[\"E : 8\"]\n",
    "    D -->|31| E[\"E : 8\"]\n",
    "    D -->|0| G[\"G : 0\"]\n",
    "    E -->|0| G[\"G : 0\"]\n",
    "```\n"
   ]
  },
  {
   "cell_type": "code",
   "execution_count": 10,
   "id": "7fe7f8b1-6a2c-4e7a-a362-5d5113a55f26",
   "metadata": {},
   "outputs": [
    {
     "name": "stdout",
     "output_type": "stream",
     "text": [
      "Path found: S --> B --> D --> G\n"
     ]
    }
   ],
   "source": [
    "def a_star_search(start, goal, graph, heuristics):\n",
    "    open_set, g_score, f_score = {start}, {start: 0}, {start: heuristics[start]}    # Initialize sets and scores\n",
    "    came_from = {}                                                                  # Dictionary to store the path\n",
    "\n",
    "    while open_set:                                                                 # While there are nodes to explore\n",
    "        current = min(open_set, key=f_score.get)                                    # Get node with lowest f_score\n",
    "        if current == goal:                                                         # If goal is reached\n",
    "            path = []                                                               # Initialize path list\n",
    "            while current in came_from:                                             # Reconstruct path from goal to start\n",
    "                path.append(current)\n",
    "                current = came_from[current]\n",
    "            return [start] + path[::-1]                                             # Return complete path\n",
    "        \n",
    "        open_set.remove(current)                                                   # Remove current node from open set\n",
    "        for neighbor, cost in graph.get(current, {}).items():                     # Explore neighbors\n",
    "            tentative_g = g_score[current] + cost                                 # Calculate potential g_score\n",
    "            if tentative_g < g_score.get(neighbor, float('inf')):                # If new path is better\n",
    "                came_from[neighbor] = current                                     # Update path\n",
    "                g_score[neighbor] = tentative_g                                  # Update g_score\n",
    "                f_score[neighbor] = tentative_g + heuristics[neighbor]          # Update f_score (g_score + heuristic)\n",
    "                open_set.add(neighbor)                                          # Add neighbor to open set\n",
    "    return None                                                                # Return None if no path found\n",
    "\n",
    "graph = {                                                                     # Define graph structure\n",
    "    'S': {'A': 22, 'B': 20},                                                # Format: node: {neighbor: cost}\n",
    "    'A': {}, \n",
    "    'B': {'C': 18, 'D': 30}, \n",
    "    'C': {'E': 31}, \n",
    "    'D': {'E': 31, 'G': 0}, \n",
    "    'E': {'G': 0}, \n",
    "    'G': {}\n",
    "}\n",
    "\n",
    "heuristics = {                                                              # Define heuristic values for each node\n",
    "    'S': 40, 'A': 36, 'B': 24, 'C': 18, 'D': 12, 'E': 8, 'G': 0\n",
    "}\n",
    "\n",
    "path = a_star_search('S', 'G', graph, heuristics)                          # Find path from 'S' to 'G'\n",
    "print(\"Path found: \" + \" --> \".join(path) if path else \"Path not Found!!\") # Print the path or error message"
   ]
  }
 ],
 "metadata": {
  "kernelspec": {
   "display_name": "Python 3 (ipykernel)",
   "language": "python",
   "name": "python3"
  },
  "language_info": {
   "codemirror_mode": {
    "name": "ipython",
    "version": 3
   },
   "file_extension": ".py",
   "mimetype": "text/x-python",
   "name": "python",
   "nbconvert_exporter": "python",
   "pygments_lexer": "ipython3",
   "version": "3.12.5"
  }
 },
 "nbformat": 4,
 "nbformat_minor": 5
}
