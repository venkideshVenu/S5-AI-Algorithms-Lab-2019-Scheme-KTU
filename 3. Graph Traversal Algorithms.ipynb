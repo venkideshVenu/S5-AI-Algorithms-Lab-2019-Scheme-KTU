{
 "cells": [
  {
   "cell_type": "markdown",
   "id": "f5a08b75",
   "metadata": {},
   "source": [
    "# Date : 29-07-2024 Monday"
   ]
  },
  {
   "cell_type": "markdown",
   "id": "2df7c59e",
   "metadata": {},
   "source": [
    "## 1. Program to perform the BFS Traversal"
   ]
  },
  {
   "cell_type": "code",
   "execution_count": 49,
   "id": "cdda63c6",
   "metadata": {
    "scrolled": false
   },
   "outputs": [
    {
     "name": "stdout",
     "output_type": "stream",
     "text": [
      "Starting Node : A\n",
      "Visited Nodes =  []\n",
      "Queue =  ['A']\n",
      "=-=-=-=-=-=-=-=-=-=-=-=-=-=-=-=-=-\n",
      "Vertex :  A\n",
      "Updated visited list :  ['A']\n",
      "----------------------------\n",
      "Unvisited neighbour :  B\n",
      "Updated queue :  ['B']\n",
      "----------------------------\n",
      "Unvisited neighbour :  C\n",
      "Updated queue :  ['B', 'C']\n",
      "=-=-=-=-=-=-=-=-=-=-=-=-=-=-=-=-=-\n",
      "Vertex :  B\n",
      "Updated visited list :  ['A', 'B']\n",
      "----------------------------\n",
      "Unvisited neighbour :  D\n",
      "Updated queue :  ['C', 'D']\n",
      "----------------------------\n",
      "Unvisited neighbour :  E\n",
      "Updated queue :  ['C', 'D', 'E']\n",
      "=-=-=-=-=-=-=-=-=-=-=-=-=-=-=-=-=-\n",
      "Vertex :  C\n",
      "Updated visited list :  ['A', 'B', 'C']\n",
      "----------------------------\n",
      "Unvisited neighbour :  F\n",
      "Updated queue :  ['D', 'E', 'F']\n",
      "----------------------------\n",
      "Unvisited neighbour :  G\n",
      "Updated queue :  ['D', 'E', 'F', 'G']\n",
      "=-=-=-=-=-=-=-=-=-=-=-=-=-=-=-=-=-\n",
      "Vertex :  D\n",
      "Updated visited list :  ['A', 'B', 'C', 'D']\n",
      "=-=-=-=-=-=-=-=-=-=-=-=-=-=-=-=-=-\n",
      "Vertex :  E\n",
      "Updated visited list :  ['A', 'B', 'C', 'D', 'E']\n",
      "=-=-=-=-=-=-=-=-=-=-=-=-=-=-=-=-=-\n",
      "Vertex :  F\n",
      "Updated visited list :  ['A', 'B', 'C', 'D', 'E', 'F']\n",
      "=-=-=-=-=-=-=-=-=-=-=-=-=-=-=-=-=-\n",
      "Vertex :  G\n",
      "Updated visited list :  ['A', 'B', 'C', 'D', 'E', 'F', 'G']\n",
      "\n",
      "\n",
      "Traversed Nodes :  ['A', 'B', 'C', 'D', 'E', 'F', 'G']\n"
     ]
    }
   ],
   "source": [
    "# Graph represented as adjacency list\n",
    "g = {'A': ['B', 'C'],\n",
    "     'B': ['A', 'D','E'],\n",
    "     'C': ['A', 'F', 'G'],\n",
    "     'D': ['B'],\n",
    "     'E': ['B'],\n",
    "     'F': ['C'],\n",
    "     'G': ['C']\n",
    "    }\n",
    "\n",
    "n = input(\"Starting Node : \")\n",
    "v = []   # List to keep track of visited nodes\n",
    "print(\"Visited Nodes = \", v)    # Initial output\n",
    "q = [n]    # Queue initialized with the starting node\n",
    "print(\"Queue = \", q)\n",
    "\n",
    "while q:\n",
    "    print('=-=-=-=-=-=-=-=-=-=-=-=-=-=-=-=-=-')\n",
    "    vertex = q.pop(0)    # Dequeue a vertex from the front of the queue\n",
    "    print(\"Vertex : \", vertex)   \n",
    "    v.append(vertex)  # Mark vertex as visited\n",
    "    print(\"Updated visited list : \", v)\n",
    "    \n",
    "    # Iterate over all adjacent vertices of the dequeued vertex\n",
    "    for i in g[vertex]:\n",
    "        # Check if adjacent vertex is not visited and not already in the queue\n",
    "        if i not in v and i not in q:\n",
    "            print('----------------------------')\n",
    "            print(\"Unvisited neighbour : \", i)\n",
    "            q.append(i)  # Enqueue the unvisited adjacent vertex\n",
    "            print(\"Updated queue : \", q)\n",
    "\n",
    "# BFS traversal complete, print final visited nodes\n",
    "print(\"\\n\\nTraversed Nodes : \", v)"
   ]
  },
  {
   "cell_type": "markdown",
   "id": "4ce35eb1",
   "metadata": {},
   "source": [
    "## 2 . Program to perform DFS Traversal"
   ]
  },
  {
   "cell_type": "code",
   "execution_count": 50,
   "id": "7865bca8",
   "metadata": {},
   "outputs": [
    {
     "name": "stdout",
     "output_type": "stream",
     "text": [
      "Enter Starting Node : A\n",
      "===================================\n",
      "Visited list :  []\n",
      "Unvisited node :  A\n",
      "----------------------------\n",
      "Neighbor of  A  :  B\n",
      "===================================\n",
      "Visited list :  ['A']\n",
      "Unvisited node :  B\n",
      "----------------------------\n",
      "Neighbor of  B  :  A\n",
      "===================================\n",
      "Visited list :  ['A', 'B']\n",
      "----------------------------\n",
      "Neighbor of  B  :  C\n",
      "===================================\n",
      "Visited list :  ['A', 'B']\n",
      "Unvisited node :  C\n",
      "----------------------------\n",
      "Neighbor of  C  :  A\n",
      "===================================\n",
      "Visited list :  ['A', 'B', 'C']\n",
      "----------------------------\n",
      "Neighbor of  C  :  B\n",
      "===================================\n",
      "Visited list :  ['A', 'B', 'C']\n",
      "----------------------------\n",
      "Neighbor of  C  :  E\n",
      "===================================\n",
      "Visited list :  ['A', 'B', 'C']\n",
      "Unvisited node :  E\n",
      "----------------------------\n",
      "Neighbor of  E  :  C\n",
      "===================================\n",
      "Visited list :  ['A', 'B', 'C', 'E']\n",
      "----------------------------\n",
      "Neighbor of  A  :  C\n",
      "===================================\n",
      "Visited list :  ['A', 'B', 'C', 'E']\n",
      "----------------------------\n",
      "Neighbor of  A  :  D\n",
      "===================================\n",
      "Visited list :  ['A', 'B', 'C', 'E']\n",
      "Unvisited node :  D\n",
      "----------------------------\n",
      "Neighbor of  D  :  A\n",
      "===================================\n",
      "Visited list :  ['A', 'B', 'C', 'E', 'D']\n"
     ]
    }
   ],
   "source": [
    "\n",
    "\n",
    "def dfs(v, g, node):\n",
    "    print(\"===================================\")\n",
    "    print(\"Visited list : \", v)\n",
    "    \n",
    "    # Check if the current node is not visited\n",
    "    if node not in v:\n",
    "        print(\"Unvisited node : \", node)\n",
    "        v.append(node)  # Mark the current node as visited\n",
    "        \n",
    "        # Traverse all neighbors of the current node recursively\n",
    "        for neighbor in g[node]:\n",
    "            print('----------------------------')\n",
    "            print(\"Neighbor of \", node, \" : \", neighbor)\n",
    "            dfs(v, g, neighbor)  # Recursively call dfs for each neighbor\n",
    "\n",
    "# Graph represented as adjacency list\n",
    "g = {'A': ['B', 'C', 'D'],\n",
    "     'B': ['A', 'C'],\n",
    "     'C': ['A', 'B', 'E'],\n",
    "     'D': ['A'],\n",
    "     'E': ['C']}\n",
    "\n",
    "\n",
    "root = input(\"Enter Starting Node : \")\n",
    "visited = []        # List to keep track of visited nodes\n",
    "dfs(visited, g, root)\n"
   ]
  },
  {
   "cell_type": "markdown",
   "id": "ffce344a",
   "metadata": {},
   "source": [
    "## 3. Program to print Fibonacci Sequence"
   ]
  },
  {
   "cell_type": "code",
   "execution_count": 60,
   "id": "87c3fcf4",
   "metadata": {},
   "outputs": [
    {
     "name": "stdout",
     "output_type": "stream",
     "text": [
      "Enter the Limit : 10\n",
      "Fibonacci Sequence is :  0  1  1  2  3  5  8  13  21  34  "
     ]
    }
   ],
   "source": [
    "n = eval(input('Enter the Limit : '))\n",
    "\n",
    "a=0\n",
    "b=1\n",
    "print('Fibonacci Sequence is : ', a,'',b,' ',end='')\n",
    "\n",
    "for i in range (n-2):\n",
    "    c=a+b\n",
    "    a=b\n",
    "    b=c\n",
    "    print( c ,' ', end='')"
   ]
  },
  {
   "cell_type": "code",
   "execution_count": null,
   "id": "e26e9ab4",
   "metadata": {},
   "outputs": [],
   "source": []
  }
 ],
 "metadata": {
  "kernelspec": {
   "display_name": "Python 3 (ipykernel)",
   "language": "python",
   "name": "python3"
  },
  "language_info": {
   "codemirror_mode": {
    "name": "ipython",
    "version": 3
   },
   "file_extension": ".py",
   "mimetype": "text/x-python",
   "name": "python",
   "nbconvert_exporter": "python",
   "pygments_lexer": "ipython3",
   "version": "3.8.10"
  }
 },
 "nbformat": 4,
 "nbformat_minor": 5
}
