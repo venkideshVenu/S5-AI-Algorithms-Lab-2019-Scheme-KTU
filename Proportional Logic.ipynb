{
 "cells": [
  {
   "cell_type": "markdown",
   "metadata": {
    "id": "ICEUiQ2n9F_D"
   },
   "source": [
    "## Implement propositional logic inferences for AI tasks"
   ]
  },
  {
   "cell_type": "code",
   "execution_count": null,
   "metadata": {
    "colab": {
     "base_uri": "https://localhost:8080/"
    },
    "id": "AuSOqb8s9HxB",
    "outputId": "565404d2-7ee3-46b5-884c-1f651abf61b0"
   },
   "outputs": [],
   "source": [
    "pip install pytholog"
   ]
  },
  {
   "cell_type": "code",
   "execution_count": null,
   "metadata": {
    "colab": {
     "base_uri": "https://localhost:8080/"
    },
    "id": "zPgIa4fI9NVH",
    "outputId": "cc481b4e-3077-4bcc-a6fe-c5f4de9dcbf0"
   },
   "outputs": [],
   "source": [
    "pip install sympy"
   ]
  },
  {
   "cell_type": "markdown",
   "metadata": {
    "id": "pk1EHf8J9QK5"
   },
   "source": [
    "# Question 1\n",
    "\n",
    "1. If it didn’t rain, Harry visited Hagrid today.\n",
    "2. Harry visited Hagrid or Dumbledore today, but not both.\n",
    "3. Harry visited Dumbledore today.\n",
    "\n",
    "\n",
    "* Represent these knowledge in knowledge base.\n",
    "* Check whether “harry visited hagrid”\n",
    "* Check whether “it rained today”"
   ]
  },
  {
   "cell_type": "code",
   "execution_count": 2,
   "metadata": {
    "colab": {
     "base_uri": "https://localhost:8080/"
    },
    "id": "fdq2CBDp9Qq8",
    "outputId": "3b81a025-e43c-4d63-ea35-87935aad843a"
   },
   "outputs": [
    {
     "name": "stdout",
     "output_type": "stream",
     "text": [
      "Knowledge Base:\n",
      "Harry visited Dumbledore & (Harry visited Dumbledore | Harry visited Hagrid) & (Implies(~It is raining, Harry visited Hagrid)) & ~(Harry visited Dumbledore & Harry visited Hagrid)\n",
      "\n",
      "Checking Statements \n",
      "\n",
      "Harry visited Hagrid : False\n",
      "It rained today :True\n"
     ]
    }
   ],
   "source": [
    "import pytholog as pl\n",
    "from sympy import *\n",
    "from sympy.logic.inference import *\n",
    "\n",
    "# Initialize pretty printing for mathematical expressions in sympy\n",
    "init_printing(\"mathjax\")\n",
    "\n",
    "# Define logical symbols (propositions)\n",
    "rain       = Symbol(\"It is raining\")           # Represents \"It is raining\"\n",
    "hagrid     = Symbol(\"Harry visited Hagrid\")    # Represents \"Harry visited Hagrid\"\n",
    "dumbledore = Symbol(\"Harry visited Dumbledore\")# Represents \"Harry visited Dumbledore\"\n",
    "\n",
    "knowledge = And(\n",
    "    Implies(Not(rain), hagrid),  # If it's not raining, Harry visited Hagrid\n",
    "    Or(hagrid, dumbledore),      # Harry visited either Hagrid or Dumbledore\n",
    "    Not(And(hagrid, dumbledore)),# Harry didn't visit both at the same time\n",
    "    dumbledore                   # Harry visited Dumbledore\n",
    ")\n",
    "\n",
    "# Find all models (satisfying truth assignments) for the knowledge base\n",
    "models = satisfiable(knowledge, all_models=True) # The satisfiable function returns all possible models.\n",
    "\n",
    "print(\"Knowledge Base:\")\n",
    "print(knowledge)\n",
    "\n",
    "print('\\nChecking Statements \\n')\n",
    "\n",
    "print('Harry visited Hagrid : ', end='')\n",
    "if model[hagrid]:  # Check the truth value of 'hagrid' in the model\n",
    "    print(\"True\")\n",
    "else:\n",
    "    print(\"False\")\n",
    "\n",
    "print('It rained today :', end='')\n",
    "if model[rain]:  # Check the truth value of 'rain' in the model\n",
    "    print(\"True\")\n",
    "else:\n",
    "    print(\"False\")\n"
   ]
  },
  {
   "cell_type": "markdown",
   "metadata": {
    "id": "j0hQBCfi9bU4"
   },
   "source": [
    "# Question 2\n",
    "\n",
    "\n",
    "1. It is not sunny this afternoon and it is colder than yesterday.\n",
    "2. We will go swimming only if it is sunny.\n",
    "3. If we do not go swimming then we will take a canoe trip.\n",
    "4. If we take a canoe trip, then we will be home by sunset.\n",
    "\n",
    "\n",
    "* Represent the knowledge base\n",
    "* Check whether they will be home by sunset"
   ]
  },
  {
   "cell_type": "code",
   "execution_count": 6,
   "metadata": {
    "colab": {
     "base_uri": "https://localhost:8080/"
    },
    "id": "BlfOmzDN9b_e",
    "outputId": "836049ab-59a7-4c8e-89c4-e90deaee1ea4"
   },
   "outputs": [
    {
     "name": "stdout",
     "output_type": "stream",
     "text": [
      "Knowledge Base:\n",
      "It's colder than yesterday & ~It's sunny this afternoon & (Implies(We will go swimming, It's sunny this afternoon)) & (Implies(We will take a Canoe Trip, We will be home by sunset)) & (Implies(~We will go swimming, We will take a Canoe Trip))\n",
      "\n",
      "Checking Statements \n",
      "\n",
      "They will be home by sunset :True\n"
     ]
    }
   ],
   "source": [
    "import pytholog as pl\n",
    "from sympy import *\n",
    "from sympy.logic.inference import *\n",
    "\n",
    "# Define logical symbols (propositions)\n",
    "S = Symbol(\"It's sunny this afternoon\")  \n",
    "C = Symbol(\"It's colder than yesterday\")  \n",
    "W = Symbol(\"We will go swimming\")        \n",
    "T = Symbol(\"We will take a Canoe Trip\")   \n",
    "H = Symbol(\"We will be home by sunset\")  \n",
    "\n",
    "knowledge = And(\n",
    "    And(Not(S), C),              # It's not sunny, and it's colder than yesterday\n",
    "    Implies(W, S),               # If we go swimming, it will be sunny\n",
    "    Implies(Not(W), T),          # If we don't go swimming, we will take a canoe trip\n",
    "    Implies(T, H)                # If we take a canoe trip, we will be home by sunset\n",
    ")\n",
    "\n",
    "# Find all models (satisfying truth assignments) for the knowledge base\n",
    "models = satisfiable(knowledge, all_models=True)  # The satisfiable function returns all possible models.\n",
    "\n",
    "print(\"Knowledge Base:\")\n",
    "print(knowledge)\n",
    "\n",
    "print('\\nChecking Statements \\n')\n",
    "\n",
    "print('They will be home by sunset :', end='')\n",
    "if model[H]:  # Check the truth value of 'H' (We will be home by sunset) in the model\n",
    "    print(\"True\")\n",
    "else:\n",
    "    print(\"False\")\n"
   ]
  }
 ],
 "metadata": {
  "colab": {
   "provenance": []
  },
  "kernelspec": {
   "display_name": "Python 3 (ipykernel)",
   "language": "python",
   "name": "python3"
  },
  "language_info": {
   "codemirror_mode": {
    "name": "ipython",
    "version": 3
   },
   "file_extension": ".py",
   "mimetype": "text/x-python",
   "name": "python",
   "nbconvert_exporter": "python",
   "pygments_lexer": "ipython3",
   "version": "3.12.5"
  }
 },
 "nbformat": 4,
 "nbformat_minor": 4
}
