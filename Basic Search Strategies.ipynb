{
 "cells": [
  {
   "cell_type": "markdown",
   "id": "e2f9c35b-c6e6-43f3-9c6e-ebb2c3e630e3",
   "metadata": {},
   "source": [
    "# Experiment 02"
   ]
  },
  {
   "cell_type": "markdown",
   "id": "8a68b1a8-4954-470c-b31f-dda6b971980d",
   "metadata": {},
   "source": [
    "##  Implement basic search strategies for selected AI applications."
   ]
  },
  {
   "cell_type": "markdown",
   "id": "8bd34b8a-e2f3-47ab-8ec9-6c0176d393a6",
   "metadata": {},
   "source": [
    "### Graph Used in this Experiment\n",
    "\n",
    "```mermaid\n",
    "graph TD;\n",
    "    A --> B;\n",
    "    A --> C;\n",
    "    B --> D;\n",
    "    B --> E;\n",
    "    C --> F;\n",
    "    C --> G;\n",
    "```"
   ]
  },
  {
   "cell_type": "markdown",
   "id": "2df7c59e",
   "metadata": {},
   "source": [
    "## BFS Traversal"
   ]
  },
  {
   "cell_type": "code",
   "execution_count": 15,
   "id": "d4cf755b-211e-4b1e-9df6-36945198c134",
   "metadata": {},
   "outputs": [
    {
     "name": "stdout",
     "output_type": "stream",
     "text": [
      "A B C D E F G "
     ]
    }
   ],
   "source": [
    "from collections import deque\n",
    "\n",
    "# Define the graph as an adjacency list where each node points to its neighbors\n",
    "graph = {\n",
    "    'A': ['B', 'C'],\n",
    "    'B': ['A', 'D', 'E'],\n",
    "    'C': ['A', 'F', 'G'],\n",
    "    'D': ['B'],\n",
    "    'E': ['B'],\n",
    "    'F': ['C'],\n",
    "    'G': ['C']\n",
    "}\n",
    "\n",
    "def bfs(graph, start):\n",
    "    visited = set()                   # Create a set to keep track of visited nodes\n",
    "    queue = deque([start])            # Initialize a queue with the starting node\n",
    "    visited.add(start)                # Mark the start node as visited\n",
    "    \n",
    "    while queue:                      # Loop until there are nodes to process in the queue\n",
    "        vertex = queue.popleft()      # Remove the front node from the queue\n",
    "        print(vertex, end=\" \")        # Print the node, representing the visit\n",
    "        \n",
    "        for node in graph[vertex]:    # Explore all neighbors of the current node\n",
    "            if node not in visited:   # If the neighbor hasn't been visited, mark it and add to queue\n",
    "                visited.add(node)\n",
    "                queue.append(node)\n",
    "\n",
    "bfs(graph, 'A')"
   ]
  },
  {
   "cell_type": "markdown",
   "id": "4ce35eb1",
   "metadata": {},
   "source": [
    "## DFS Traversal"
   ]
  },
  {
   "cell_type": "code",
   "execution_count": 16,
   "id": "87c3fcf4",
   "metadata": {},
   "outputs": [
    {
     "name": "stdout",
     "output_type": "stream",
     "text": [
      "A B D E C F G "
     ]
    }
   ],
   "source": [
    "# Define the graph as an adjacency list where each node points to its neighbors\n",
    "graph = {\n",
    "    'A': ['B', 'C'],\n",
    "    'B': ['A', 'D', 'E'],\n",
    "    'C': ['A', 'F', 'G'],\n",
    "    'D': ['B'],\n",
    "    'E': ['B'],\n",
    "    'F': ['C'],\n",
    "    'G': ['C']\n",
    "}\n",
    "\n",
    "def dfs(graph, start, visited=None):         # Function to perform DFS\n",
    "    if visited is None:                      # If visited is not initialized\n",
    "        visited = set()                      # Initialize visited as a set\n",
    "    \n",
    "    visited.add(start)                       # Add start to visited set\n",
    "    print(start, end=\" \")                    # Print the current node\n",
    "    \n",
    "    for node in graph[start]:                # Iterate over neighbors in graph\n",
    "        if node not in visited:              # If neighbor not visited\n",
    "            dfs(graph, node, visited)        # Call dfs() recursively for the neighbor\n",
    "\n",
    "dfs(graph, 'A')                              # Call DFS with starting node 'A'\n"
   ]
  },
  {
   "cell_type": "code",
   "execution_count": null,
   "id": "c3c6f842-59bb-48d8-bf09-3543986a1134",
   "metadata": {},
   "outputs": [],
   "source": []
  }
 ],
 "metadata": {
  "kernelspec": {
   "display_name": "Python 3 (ipykernel)",
   "language": "python",
   "name": "python3"
  },
  "language_info": {
   "codemirror_mode": {
    "name": "ipython",
    "version": 3
   },
   "file_extension": ".py",
   "mimetype": "text/x-python",
   "name": "python",
   "nbconvert_exporter": "python",
   "pygments_lexer": "ipython3",
   "version": "3.12.5"
  }
 },
 "nbformat": 4,
 "nbformat_minor": 5
}
