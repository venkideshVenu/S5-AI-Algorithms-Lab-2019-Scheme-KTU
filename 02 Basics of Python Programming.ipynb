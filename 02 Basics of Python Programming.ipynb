{
 "cells": [
  {
   "cell_type": "markdown",
   "metadata": {
    "id": "y4pf17C-ZblZ"
   },
   "source": [
    "# Basics of Python Programming"
   ]
  },
  {
   "cell_type": "markdown",
   "metadata": {
    "id": "bXjmBttyZblc"
   },
   "source": [
    "### String Palindrome"
   ]
  },
  {
   "cell_type": "code",
   "execution_count": 2,
   "metadata": {
    "colab": {
     "base_uri": "https://localhost:8080/"
    },
    "id": "XCLn7-FzZble",
    "outputId": "174ba5b3-9665-480c-a7d2-b435fe640fb8"
   },
   "outputs": [
    {
     "name": "stdout",
     "output_type": "stream",
     "text": [
      "Enter a String : Hello\n",
      "String is not a Palindrome\n"
     ]
    }
   ],
   "source": [
    "str1 = input('Enter a String : ')\n",
    "str1 = str1.lower()\n",
    "\n",
    "if str1== str1[::-1]:\n",
    "    print('String is Palindrome')\n",
    "else:\n",
    "    print('String is not a Palindrome')"
   ]
  },
  {
   "cell_type": "markdown",
   "metadata": {
    "id": "wgUQKBfhZblh"
   },
   "source": [
    "### Occurence of words in a given string"
   ]
  },
  {
   "cell_type": "code",
   "execution_count": 4,
   "metadata": {
    "colab": {
     "base_uri": "https://localhost:8080/"
    },
    "id": "-XKoQLhPZbli",
    "outputId": "2946fb1a-1b7c-4a89-ea65-a1dde0e78ccd"
   },
   "outputs": [
    {
     "name": "stdout",
     "output_type": "stream",
     "text": [
      "Enter a String : String with the word word\n",
      "Word            Occurance \n",
      " -----------------------------\n",
      "string              1\n",
      "with                1\n",
      "the                 1\n",
      "word                2\n"
     ]
    }
   ],
   "source": [
    "string = input('Enter a String : ')\n",
    "string = string.lower()\n",
    "words = string.split()\n",
    "\n",
    "wordCount = {}\n",
    "\n",
    "for word in words:\n",
    "    if word in wordCount:\n",
    "        wordCount[word] += 1\n",
    "    else:\n",
    "        wordCount[word] = 1\n",
    "\n",
    "print('Word            Occurance \\n -----------------------------')\n",
    "for key,value in wordCount.items():\n",
    "    print(\"{:<10} {:10}\".format(key,value))"
   ]
  },
  {
   "cell_type": "markdown",
   "metadata": {
    "id": "L7LQW_2bZbli"
   },
   "source": [
    "### Sum of Diagonal & off-Diagonal"
   ]
  },
  {
   "cell_type": "code",
   "execution_count": 5,
   "metadata": {
    "colab": {
     "base_uri": "https://localhost:8080/"
    },
    "id": "9AXHh7uIZblj",
    "outputId": "dc7a40ab-0937-40b4-93e0-48e7d064ff08"
   },
   "outputs": [
    {
     "name": "stdout",
     "output_type": "stream",
     "text": [
      "Enter a Matrix : [1,2,3],[4,5,6],[7,8,9]\n",
      "Sum of Diagonal Elements :  15\n",
      "Sum of Off-Diagonal Elements :  30\n"
     ]
    }
   ],
   "source": [
    "matrix = eval(input('Enter a Matrix : '))\n",
    "onSum, offSum = 0, 0\n",
    "\n",
    "for i in range(len(matrix)):\n",
    "    onSum += matrix[i][i]\n",
    "    for j in range(len(matrix[0])):\n",
    "        if i != j:\n",
    "            offSum += matrix[i][j]\n",
    "\n",
    "print('Sum of Diagonal Elements : ',onSum)\n",
    "print('Sum of Off-Diagonal Elements : ',offSum)"
   ]
  },
  {
   "cell_type": "markdown",
   "metadata": {
    "id": "w2pn4ry_Zblj"
   },
   "source": [
    "### Fibonacci Sequence"
   ]
  },
  {
   "cell_type": "code",
   "execution_count": 6,
   "metadata": {
    "colab": {
     "base_uri": "https://localhost:8080/"
    },
    "id": "ox3U4ghqZblk",
    "outputId": "f886a57e-7227-4692-c4f8-0638d5c9923c"
   },
   "outputs": [
    {
     "name": "stdout",
     "output_type": "stream",
     "text": [
      "Enter the Limit : 10\n",
      "Fibonacci Sequence is :  0  1  1  2  3  5  8  13  21  34  "
     ]
    }
   ],
   "source": [
    "n = eval(input('Enter the Limit : '))\n",
    "\n",
    "a, b =0, 1\n",
    "print('Fibonacci Sequence is : ', a,'',b,' ',end='')\n",
    "\n",
    "for i in range (n-2):\n",
    "    c=a+b\n",
    "    a, b = b, c\n",
    "    print( c ,' ', end='')"
   ]
  },
  {
   "cell_type": "markdown",
   "metadata": {
    "id": "wu0lYuzxZblk"
   },
   "source": [
    "### Prime Numbers in a given range"
   ]
  },
  {
   "cell_type": "code",
   "execution_count": 7,
   "metadata": {
    "colab": {
     "base_uri": "https://localhost:8080/"
    },
    "id": "NmcinoK4Zbll",
    "outputId": "671fcf17-5f0f-4766-d767-9e2bb13e801d"
   },
   "outputs": [
    {
     "name": "stdout",
     "output_type": "stream",
     "text": [
      "Enter the start of the range: 20\n",
      "Enter the end of the range: 40\n",
      "Prime numbers between 20 and 40 are : 23 29 31 37 "
     ]
    }
   ],
   "source": [
    "def is_prime(n):\n",
    "    if n < 2:\n",
    "        return False\n",
    "    for i in range(2, int(n**0.5) + 1):\n",
    "        if n % i == 0:\n",
    "            return False\n",
    "    return True\n",
    "\n",
    "def primeNumbers(start, end):\n",
    "    for num in range(start, end + 1):\n",
    "        if is_prime(num):\n",
    "            print(num, end=' ')\n",
    "\n",
    "start = int(input(\"Enter the start of the range: \"))\n",
    "end = int(input(\"Enter the end of the range: \"))\n",
    "print(f\"Prime numbers between {start} and {end} are : \", end='')\n",
    "primeNumbers(start, end)\n"
   ]
  }
 ],
 "metadata": {
  "colab": {
   "provenance": []
  },
  "kernelspec": {
   "display_name": "Python 3 (ipykernel)",
   "language": "python",
   "name": "python3"
  },
  "language_info": {
   "codemirror_mode": {
    "name": "ipython",
    "version": 3
   },
   "file_extension": ".py",
   "mimetype": "text/x-python",
   "name": "python",
   "nbconvert_exporter": "python",
   "pygments_lexer": "ipython3",
   "version": "3.12.5"
  }
 },
 "nbformat": 4,
 "nbformat_minor": 4
}
