{
 "cells": [
  {
   "cell_type": "markdown",
   "id": "54758924-c498-4900-977f-a699028fe2ce",
   "metadata": {},
   "source": [
    "# Experiment 7"
   ]
  },
  {
   "cell_type": "markdown",
   "id": "31d35f01",
   "metadata": {},
   "source": [
    "### Travelling Salesman Problem"
   ]
  },
  {
   "cell_type": "code",
   "execution_count": 14,
   "id": "f448aadf-e510-4250-8e7f-211a0e40b24a",
   "metadata": {},
   "outputs": [
    {
     "name": "stdin",
     "output_type": "stream",
     "text": [
      "Enter the Names of Cities (separated by spaces):  A B C D\n",
      "Enter the Distance Matrix :  [0,1,2,9] , [1,0,8,3], [2,8,0,2], [9,3,2,0]\n"
     ]
    },
    {
     "name": "stdout",
     "output_type": "stream",
     "text": [
      "\n",
      "    Distance Matrix:\n",
      " ========================\n",
      "       A    B    C    D\n",
      "   A   0    1    2    9\n",
      "   B   1    0    8    3\n",
      "   C   2    8    0    2\n",
      "   D   9    3    2    0\n",
      "\n",
      "Optimal Route: A -> B -> D -> C\n",
      "Minimum Cost: 8\n"
     ]
    }
   ],
   "source": [
    "import itertools                    # Import itertools for generating permutations\n",
    "\n",
    "def calculateCost(route, matrix):\n",
    "    totalCost = 0                                          # Initialize total cost to 0\n",
    "    for i in range(len(route)):                            # Iterate through the cities in the route\n",
    "        start = cities.index(route[i])                     # Get the index of the starting city\n",
    "        end = cities.index(route[(i + 1) % len(route)])    # Get the index of the next city (wrap around)\n",
    "        totalCost += matrix[start][end]                    # Add the cost of traveling from start to end\n",
    "    return totalCost                                       # Return the total cost of the route\n",
    "\n",
    "def travelling_salesman(cities, matrix):\n",
    "    minCost = float('inf')                        # Initialize minimum cost to infinity\n",
    "    bestPath = []                                 # Initialize best path as an empty list\n",
    "    for perm in itertools.permutations(cities):   # Generate all city permutations\n",
    "        currCost = calculateCost(perm, matrix)    # Calculate the cost for the current permutation\n",
    "        if currCost < minCost:                    # If the current cost is less than the minimum cost\n",
    "            minCost = currCost                    # Update the minimum cost\n",
    "            bestPath = perm                       # Update the best path\n",
    "    return bestPath, minCost                      # Return the best path and minimum cost\n",
    "\n",
    "# Input cities and the distance matrix from the user\n",
    "cities = input('Enter the Names of Cities (separated by spaces): ').split()  # Get cities input\n",
    "noc = len(cities)  # Get the number of cities\n",
    "matrix = eval(input('Enter the Distance Matrix : '))  # Get the distance matrix input\n",
    "\n",
    "# Print the distance matrix in a readable format\n",
    "print(\"\\n    Distance Matrix:\\n\",'========================')\n",
    "print(\"       \" + \"    \".join(cities))  \n",
    "for i, row in enumerate(matrix):\n",
    "    print(f\"   {cities[i]} \" + \"  \".join(f\"{cost:3}\" for cost in row))\n",
    "\n",
    "bestPath, minCost = travelling_salesman(cities, matrix)\n",
    "\n",
    "print(\"\\nOptimal Route:\", \" -> \".join(bestPath))  \n",
    "print(\"Minimum Cost:\", minCost)"
   ]
  }
 ],
 "metadata": {
  "kernelspec": {
   "display_name": "Python 3 (ipykernel)",
   "language": "python",
   "name": "python3"
  },
  "language_info": {
   "codemirror_mode": {
    "name": "ipython",
    "version": 3
   },
   "file_extension": ".py",
   "mimetype": "text/x-python",
   "name": "python",
   "nbconvert_exporter": "python",
   "pygments_lexer": "ipython3",
   "version": "3.12.5"
  }
 },
 "nbformat": 4,
 "nbformat_minor": 5
}
