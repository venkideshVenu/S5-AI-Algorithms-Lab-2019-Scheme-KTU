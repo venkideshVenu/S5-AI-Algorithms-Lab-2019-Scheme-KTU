{
  "nbformat": 4,
  "nbformat_minor": 0,
  "metadata": {
    "colab": {
      "provenance": []
    },
    "kernelspec": {
      "name": "python3",
      "display_name": "Python 3"
    },
    "language_info": {
      "name": "python"
    }
  },
  "cells": [
    {
      "cell_type": "markdown",
      "source": [
        "##  7. Implement propositional logic inferences for AI tasks"
      ],
      "metadata": {
        "id": "ICEUiQ2n9F_D"
      }
    },
    {
      "cell_type": "code",
      "source": [
        "pip install pytholog"
      ],
      "metadata": {
        "colab": {
          "base_uri": "https://localhost:8080/"
        },
        "id": "AuSOqb8s9HxB",
        "outputId": "565404d2-7ee3-46b5-884c-1f651abf61b0"
      },
      "execution_count": null,
      "outputs": [
        {
          "output_type": "stream",
          "name": "stdout",
          "text": [
            "Collecting pytholog\n",
            "  Downloading pytholog-2.4.1-py3-none-any.whl.metadata (12 kB)\n",
            "Requirement already satisfied: more-itertools in /usr/local/lib/python3.10/dist-packages (from pytholog) (10.5.0)\n",
            "Downloading pytholog-2.4.1-py3-none-any.whl (16 kB)\n",
            "Installing collected packages: pytholog\n",
            "Successfully installed pytholog-2.4.1\n"
          ]
        }
      ]
    },
    {
      "cell_type": "code",
      "source": [
        "pip install sympy"
      ],
      "metadata": {
        "colab": {
          "base_uri": "https://localhost:8080/"
        },
        "id": "zPgIa4fI9NVH",
        "outputId": "cc481b4e-3077-4bcc-a6fe-c5f4de9dcbf0"
      },
      "execution_count": null,
      "outputs": [
        {
          "output_type": "stream",
          "name": "stdout",
          "text": [
            "Requirement already satisfied: sympy in /usr/local/lib/python3.10/dist-packages (1.13.3)\n",
            "Requirement already satisfied: mpmath<1.4,>=1.1.0 in /usr/local/lib/python3.10/dist-packages (from sympy) (1.3.0)\n"
          ]
        }
      ]
    },
    {
      "cell_type": "markdown",
      "source": [
        "# Question 1\n",
        "\n",
        "1. If it didn’t rain, Harry visited Hagrid today.\n",
        "2. Harry visited Hagrid or Dumbledore today, but not both.\n",
        "3. Harry visited Dumbledore today.\n",
        "\n",
        "\n",
        "* Represent these knowledge in knowledge base.\n",
        "* Check whether “harry visited hagrid”\n",
        "* Check whether “it rained today”"
      ],
      "metadata": {
        "id": "pk1EHf8J9QK5"
      }
    },
    {
      "cell_type": "code",
      "source": [
        "import pytholog as pl\n",
        "from sympy import *\n",
        "from sympy.logic.inference import *\n",
        "\n",
        "# Initialize pretty printing for mathematical expressions in sympy\n",
        "init_printing(\"mathjax\")\n",
        "\n",
        "# Define logical symbols (propositions)\n",
        "rain       = Symbol(\"It is raining\")           # Represents \"It is raining\"\n",
        "hagrid     = Symbol(\"Harry visited Hagrid\")    # Represents \"Harry visited Hagrid\"\n",
        "dumbledore = Symbol(\"Harry visited Dumbledore\")# Represents \"Harry visited Dumbledore\"\n",
        "\n",
        "# Define the knowledge base using logical operators\n",
        "# Knowledge base consists of the following rules:\n",
        "# 1. If it is not raining, then Harry visited Hagrid.\n",
        "# 2. Harry visited Hagrid or Harry visited Dumbledore.\n",
        "# 3. Harry did not visit both Hagrid and Dumbledore.\n",
        "# 4. Harry visited Dumbledore.\n",
        "knowledge = And(\n",
        "    Implies(Not(rain), hagrid),  # If it's not raining, Harry visited Hagrid\n",
        "    Or(hagrid, dumbledore),      # Harry visited either Hagrid or Dumbledore\n",
        "    Not(And(hagrid, dumbledore)),# Harry didn't visit both at the same time\n",
        "    dumbledore                   # Harry visited Dumbledore\n",
        ")\n",
        "\n",
        "# Find all models (satisfying truth assignments) for the knowledge base\n",
        "models = satisfiable(knowledge, all_models=True) # The satisfiable function returns all possible models.\n",
        "\n",
        "# Print the knowledge base\n",
        "print(\"Knowledge Base:\")\n",
        "print(knowledge)\n",
        "\n",
        "# Print all models\n",
        "print(\"\\nModels:\")\n",
        "for model in models:\n",
        "    print(\"{\")\n",
        "    for symbol, value in model.items():\n",
        "        print(f\"  {symbol}: {value}\")  # Print each symbol and its truth value in the model\n",
        "    print(\"}\")\n",
        "\n",
        "# Checking individual statements\n",
        "print('\\nChecking Statements \\n')\n",
        "\n",
        "# Check if Harry visited Hagrid\n",
        "print('Harry visited Hagrid : ', end='')\n",
        "if model[hagrid]:  # Check the truth value of 'hagrid' in the model\n",
        "    print(\"True\")\n",
        "else:\n",
        "    print(\"False\")\n",
        "\n",
        "# Check if it rained today\n",
        "print('It rained today :', end='')\n",
        "if model[rain]:  # Check the truth value of 'rain' in the model\n",
        "    print(\"True\")\n",
        "else:\n",
        "    print(\"False\")\n"
      ],
      "metadata": {
        "colab": {
          "base_uri": "https://localhost:8080/"
        },
        "id": "fdq2CBDp9Qq8",
        "outputId": "3b81a025-e43c-4d63-ea35-87935aad843a"
      },
      "execution_count": 5,
      "outputs": [
        {
          "output_type": "stream",
          "name": "stdout",
          "text": [
            "Knowledge Base:\n",
            "Harry visited Dumbledore & (Harry visited Dumbledore | Harry visited Hagrid) & (Implies(~It is raining, Harry visited Hagrid)) & ~(Harry visited Dumbledore & Harry visited Hagrid)\n",
            "\n",
            "Models:\n",
            "{\n",
            "  Harry visited Dumbledore: True\n",
            "  It is raining: True\n",
            "  Harry visited Hagrid: False\n",
            "}\n",
            "\n",
            "Checking Statements \n",
            "\n",
            "Harry visited Hagrid : False\n",
            "It rained today :True\n"
          ]
        }
      ]
    },
    {
      "cell_type": "markdown",
      "source": [
        "# Question 2\n",
        "\n",
        "\n",
        "1. It is not sunny this afternoon and it is colder than yesterday.\n",
        "2. We will go swimming only if it is sunny.\n",
        "3. If we do not go swimming then we will take a canoe trip.\n",
        "4. If we take a canoe trip, then we will be home by sunset.\n",
        "\n",
        "\n",
        "* Represent the knowledge base\n",
        "* Check whether they will be home by sunset"
      ],
      "metadata": {
        "id": "j0hQBCfi9bU4"
      }
    },
    {
      "cell_type": "code",
      "source": [
        "import pytholog as pl\n",
        "from sympy import *\n",
        "from sympy.logic.inference import *\n",
        "\n",
        "# Define logical symbols (propositions)\n",
        "S = Symbol(\"It's sunny this afternoon\")   # Represents \"It's sunny this afternoon\"\n",
        "C = Symbol(\"It's colder than yesterday\")  # Represents \"It's colder than yesterday\"\n",
        "W = Symbol(\"We will go swimming\")         # Represents \"We will go swimming\"\n",
        "T = Symbol(\"We will take a Canoe Trip\")   # Represents \"We will take a Canoe Trip\"\n",
        "H = Symbol(\"We will be home by sunset\")   # Represents \"We will be home by sunset\"\n",
        "\n",
        "# Define the knowledge base using logical operators\n",
        "# The knowledge base consists of the following rules:\n",
        "# 1. It's not sunny this afternoon, and it's colder than yesterday.\n",
        "# 2. If we go swimming, it must be sunny this afternoon.\n",
        "# 3. If we don't go swimming, we'll take a canoe trip.\n",
        "# 4. If we take a canoe trip, we'll be home by sunset.\n",
        "knowledge = And(\n",
        "    And(Not(S), C),              # It's not sunny, and it's colder than yesterday\n",
        "    Implies(W, S),               # If we go swimming, it will be sunny\n",
        "    Implies(Not(W), T),          # If we don't go swimming, we will take a canoe trip\n",
        "    Implies(T, H)                # If we take a canoe trip, we will be home by sunset\n",
        ")\n",
        "\n",
        "# Find all models (satisfying truth assignments) for the knowledge base\n",
        "models = satisfiable(knowledge, all_models=True)  # The satisfiable function returns all possible models.\n",
        "\n",
        "# Print the knowledge base\n",
        "print(\"Knowledge Base:\")\n",
        "print(knowledge)\n",
        "\n",
        "# Print all models\n",
        "print(\"\\nModels:\")\n",
        "for model in models:\n",
        "    print(\"{\")\n",
        "    for symbol, value in model.items():\n",
        "        print(f\"  {symbol}: {value}\")  # Print each symbol and its truth value in the model\n",
        "    print(\"}\")\n",
        "\n",
        "# Check if certain statements hold true based on the model\n",
        "print('\\nChecking Statements \\n')\n",
        "\n",
        "# Check if \"They will be home by sunset\" is true\n",
        "print('They will be home by sunset :', end='')\n",
        "if model[H]:  # Check the truth value of 'H' (We will be home by sunset) in the model\n",
        "    print(\"True\")\n",
        "else:\n",
        "    print(\"False\")\n"
      ],
      "metadata": {
        "colab": {
          "base_uri": "https://localhost:8080/"
        },
        "id": "BlfOmzDN9b_e",
        "outputId": "836049ab-59a7-4c8e-89c4-e90deaee1ea4"
      },
      "execution_count": 6,
      "outputs": [
        {
          "output_type": "stream",
          "name": "stdout",
          "text": [
            "Knowledge Base:\n",
            "It's colder than yesterday & ~It's sunny this afternoon & (Implies(We will go swimming, It's sunny this afternoon)) & (Implies(We will take a Canoe Trip, We will be home by sunset)) & (Implies(~We will go swimming, We will take a Canoe Trip))\n",
            "\n",
            "Models:\n",
            "{\n",
            "  It's colder than yesterday: True\n",
            "  We will take a Canoe Trip: True\n",
            "  We will be home by sunset: True\n",
            "  It's sunny this afternoon: False\n",
            "  We will go swimming: False\n",
            "}\n",
            "\n",
            "Checking Statements \n",
            "\n",
            "They will be home by sunset :True\n"
          ]
        }
      ]
    }
  ]
}