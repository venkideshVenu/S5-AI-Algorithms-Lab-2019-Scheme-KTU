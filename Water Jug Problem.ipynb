{
 "cells": [
  {
   "cell_type": "markdown",
   "id": "aeeba199",
   "metadata": {},
   "source": [
    "## Date : 04-10-2024 Friday"
   ]
  },
  {
   "cell_type": "markdown",
   "id": "2ddb37f4",
   "metadata": {},
   "source": [
    "## Water Jug Problem"
   ]
  },
  {
   "cell_type": "code",
   "execution_count": 63,
   "id": "f0f35171",
   "metadata": {
    "scrolled": true
   },
   "outputs": [
    {
     "name": "stdout",
     "output_type": "stream",
     "text": [
      "Enter the capacity of Jug 1: 3\n",
      "Enter the capacity of Jug 2: 5\n",
      "Enter the goal state: 4\n",
      " Solution Found\n",
      "\n",
      "  j1    j2        action\n",
      "======================================\n",
      "   0    0      Fill Jug 2\n",
      "   0    5      Pour Jug 2 into Jug 1\n",
      "   3    2      Empty Jug 1\n",
      "   0    2      Pour Jug 2 into Jug 1\n",
      "   2    0      Fill Jug 2\n",
      "   2    5      Pour Jug 2 into Jug 1\n",
      "   3    4      Final State\n"
     ]
    }
   ],
   "source": [
    "from collections import deque\n",
    "\n",
    "def waterJugProblem(cap1, cap2, target):    \n",
    "    # Initialize the starting state of both jugs\n",
    "    j1, j2 = 0, 0\n",
    "    visited = set()  # Set to keep track of visited states\n",
    "    queue = deque()  # Initialize a queue for BFS\n",
    "    queue.append((j1, j2, []))  # Start with both jugs empty\n",
    "\n",
    "    results = []  # List to store the solution path\n",
    "    while queue:\n",
    "        # Dequeue the next state\n",
    "        j1, j2, actions = queue.popleft()\n",
    "        \n",
    "        # Check if we've reached the target with either jug\n",
    "        if j1 == target or j2 == target:\n",
    "            results.extend(actions)  # Add the sequence of actions taken\n",
    "            results.append((j1, j2, 'Final State'))  # Append the final state\n",
    "            \n",
    "            return results  # Return the results if target is reached\n",
    "        \n",
    "        state = (j1, j2)  # Current state as a tuple\n",
    "        if state in visited:\n",
    "            continue  # Skip if this state has already been visited\n",
    "        visited.add(state)  # Mark the current state as visited\n",
    "\n",
    "        # List of all possible actions and resulting states\n",
    "        possible_actions = [\n",
    "            (cap1, j2, \"Fill Jug 1\"),  # Fill Jug 1 to its capacity\n",
    "            (j1, cap2, \"Fill Jug 2\"),  # Fill Jug 2 to its capacity\n",
    "            (0, j2, \"Empty Jug 1\"),     # Empty Jug 1\n",
    "            (j1, 0, \"Empty Jug 2\"),     # Empty Jug 2\n",
    "            (max(0, j1 - (cap2 - j2)), min(cap2, j2 + j1), \"Pour Jug 1 into Jug 2\"),  # Pour from Jug 1 to Jug 2\n",
    "            (min(cap1, j1 + j2), max(0, j2 - (cap1 - j1)), \"Pour Jug 2 into Jug 1\"),  # Pour from Jug 2 to Jug 1\n",
    "        ]\n",
    "\n",
    "        # Iterate over all possible actions\n",
    "        for new_j1, new_j2, action in possible_actions:\n",
    "            new_actions = actions + [(j1, j2, action)]  # Record the action taken\n",
    "            # Check if the new state has not been visited\n",
    "            if (new_j1, new_j2) not in visited:\n",
    "                queue.append((new_j1, new_j2, new_actions))  # Enqueue the new state\n",
    "\n",
    "    return None  # Return None if no solution is found\n",
    "\n",
    "cap1 = int(input(\"Enter the capacity of Jug 1: \")) \n",
    "cap2 = int(input(\"Enter the capacity of Jug 2: \"))  \n",
    "goal = int(input(\"Enter the goal state: \"))    \n",
    "result = waterJugProblem(cap1, cap2, goal) \n",
    "\n",
    "# Output the results\n",
    "if result:\n",
    "    print(' Solution Found\\n')\n",
    "    print('  j1    j2        action')\n",
    "    print('======================================')\n",
    "    for j1, j2, action in result:  # Print the actions taken\n",
    "        print(f'   {j1}    {j2}      {action}')\n",
    "else:\n",
    "    print('No solutions Found')  # Inform if no solution exists"
   ]
  },
  {
   "cell_type": "code",
   "execution_count": null,
   "id": "e389540a",
   "metadata": {},
   "outputs": [],
   "source": []
  },
  {
   "cell_type": "code",
   "execution_count": null,
   "id": "e38a3a7d",
   "metadata": {},
   "outputs": [],
   "source": []
  }
 ],
 "metadata": {
  "kernelspec": {
   "display_name": "Python 3 (ipykernel)",
   "language": "python",
   "name": "python3"
  },
  "language_info": {
   "codemirror_mode": {
    "name": "ipython",
    "version": 3
   },
   "file_extension": ".py",
   "mimetype": "text/x-python",
   "name": "python",
   "nbconvert_exporter": "python",
   "pygments_lexer": "ipython3",
   "version": "3.8.10"
  }
 },
 "nbformat": 4,
 "nbformat_minor": 5
}
